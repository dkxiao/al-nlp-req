{
 "cells": [
  {
   "cell_type": "code",
   "execution_count": 1,
   "metadata": {},
   "outputs": [],
   "source": [
    "# data exploration of shao's NER dataset\n",
    "# comparison to conll2003 dataset"
   ]
  },
  {
   "cell_type": "code",
   "execution_count": 2,
   "metadata": {},
   "outputs": [],
   "source": [
    "from datasets import load_dataset\n",
    "import pandas as pd"
   ]
  },
  {
   "cell_type": "code",
   "execution_count": 3,
   "metadata": {},
   "outputs": [
    {
     "name": "stderr",
     "output_type": "stream",
     "text": [
      "Using custom data configuration limsc--requirements-entity-recognition-bbdaea1faba0d374\n",
      "Found cached dataset parquet (C:/Users/dekai/.cache/huggingface/datasets/limsc___parquet/limsc--requirements-entity-recognition-bbdaea1faba0d374/0.0.0/2a3b91fbd88a2c90d1dbbb32b460cf621d31bd5b05b934492fdef7d8d6f236ec)\n"
     ]
    },
    {
     "data": {
      "application/vnd.jupyter.widget-view+json": {
       "model_id": "7c0043ebabfa4610b051880562dff430",
       "version_major": 2,
       "version_minor": 0
      },
      "text/plain": [
       "  0%|          | 0/3 [00:00<?, ?it/s]"
      ]
     },
     "metadata": {},
     "output_type": "display_data"
    },
    {
     "name": "stderr",
     "output_type": "stream",
     "text": [
      "Found cached dataset conll2003 (C:/Users/dekai/.cache/huggingface/datasets/conll2003/conll2003/1.0.0/9a4d16a94f8674ba3466315300359b0acd891b68b6c8743ddf60b9c702adce98)\n"
     ]
    },
    {
     "data": {
      "application/vnd.jupyter.widget-view+json": {
       "model_id": "53cfaff75add4a37bb3d57436e081d25",
       "version_major": 2,
       "version_minor": 0
      },
      "text/plain": [
       "  0%|          | 0/3 [00:00<?, ?it/s]"
      ]
     },
     "metadata": {},
     "output_type": "display_data"
    }
   ],
   "source": [
    "shao_data = load_dataset('limsc/requirements-entity-recognition')\n",
    "conll_data = load_dataset('conll2003')"
   ]
  },
  {
   "cell_type": "code",
   "execution_count": 4,
   "metadata": {},
   "outputs": [
    {
     "data": {
      "text/plain": [
       "DatasetDict({\n",
       "    test: Dataset({\n",
       "        features: ['id', 'tokens', 'ner_tags'],\n",
       "        num_rows: 139\n",
       "    })\n",
       "    train: Dataset({\n",
       "        features: ['id', 'tokens', 'ner_tags'],\n",
       "        num_rows: 646\n",
       "    })\n",
       "    val: Dataset({\n",
       "        features: ['id', 'tokens', 'ner_tags'],\n",
       "        num_rows: 138\n",
       "    })\n",
       "})"
      ]
     },
     "execution_count": 4,
     "metadata": {},
     "output_type": "execute_result"
    }
   ],
   "source": [
    "shao_data"
   ]
  },
  {
   "cell_type": "code",
   "execution_count": 5,
   "metadata": {},
   "outputs": [
    {
     "name": "stdout",
     "output_type": "stream",
     "text": [
      "['The', 'operating', 'humidity', 'shall', 'be', 'between', '0.4', 'and', '0.6']\n",
      "[0, 3, 4, 0, 0, 5, 7, 5, 7]\n",
      "['The', 'OIWFS', 'operating', 'in', 'LTAO', 'mode', 'using', 'off-axis', 'NGS', 'shall', 'have', 'a', 'Chief', 'ray', 'angle', 'measurement', 'accuracy', 'of', '<', '120', 'Âµrad', 'at', '0.1', 'Hz', '(1-sigma', 'accuracy)', 'when', 'using', 'a', 'K=18.0', 'guide', 'star', 'at', '60', 'arcsec', 'off-axis.']\n",
      "[0, 9, 0, 0, 0, 0, 0, 0, 0, 0, 0, 0, 3, 4, 4, 4, 4, 0, 5, 7, 8, 0, 0, 0, 0, 0, 0, 0, 0, 0, 0, 0, 0, 0, 0, 0]\n",
      "['Vertical', 'profiles', 'shall', 'be', 'measured', 'in', 'an', 'altitude', 'range', 'extending', 'from', '-', '0.5', 'km', 'up', 'to', '40', 'km', 'with', 'respect', 'to', 'the', 'reference', 'ellipsoid.']\n",
      "[3, 4, 0, 0, 1, 0, 0, 0, 0, 0, 0, 0, 0, 0, 0, 0, 0, 0, 0, 0, 0, 0, 0, 0]\n",
      "['The', 'CIS', 'CNET', 'shall', 'accommodate', 'a', 'bandwidth', 'of', 'at', 'least', '24.0575', 'Gbps', 'to', 'the', 'Computer', 'Room', '.']\n",
      "[0, 9, 10, 0, 1, 0, 3, 0, 5, 6, 7, 8, 0, 0, 9, 10, 0]\n",
      "['The', 'algorithm', 'shall', 'produce', 'the', 'SST', 'product', 'that', 'has', 'a', 'measurement', 'accuracy', ',', 'skin', 'and', 'bulk,', 'of', '0.5', 'K', '.']\n",
      "[0, 9, 0, 1, 0, 9, 10, 0, 0, 0, 3, 4, 0, 0, 0, 0, 0, 7, 8, 0]\n",
      "['The', 'CIS', 'CNET', 'shall', 'accommodate', 'a', 'bandwidth', 'of', 'at', 'least', '0.08', 'Gbps', 'to', 'the', 'Utility', 'Room', '.']\n",
      "[0, 9, 10, 0, 1, 0, 3, 0, 5, 6, 7, 8, 0, 0, 9, 10, 0]\n",
      "['The', 'algorithm', 'shall', 'produce', 'a', 'cloud', 'liquid', 'water', 'product', 'that', 'has', 'a', 'measurement', 'precision', 'of', '0.08', 'mm', 'over', 'sea.']\n",
      "[0, 9, 0, 1, 0, 9, 10, 10, 10, 0, 0, 0, 3, 4, 0, 7, 8, 0, 0]\n",
      "['The', 'Herschel', 'spacecraft', 'shall', 'provide', 'a', 'mass', 'allocation', 'of', '465', 'kg', 'for', 'the', 'baseline', 'payload', 'accommodation', 'as', 'defined', 'in', 'IID', 'Part', 'B', '(AD4-2,', 'AD4-3', 'and', 'AD4-4)', 'including', 'margins.']\n",
      "[0, 9, 10, 0, 1, 0, 3, 4, 0, 7, 8, 0, 0, 9, 10, 0, 0, 0, 0, 0, 0, 0, 0, 0, 0, 0, 0, 0]\n",
      "['The', 'ASMS', 'and', 'FSMS', 'shall', 'have', 'a', 'range', 'of', 'motion', 'in', 'the', 'M2', 'segment', 'RY', 'rotation', 'degree', 'of', 'freedom', 'of', 'Â±', '3000', 'Âµrad', '.']\n",
      "[0, 9, 0, 9, 0, 0, 0, 3, 4, 4, 0, 0, 0, 0, 0, 0, 0, 0, 0, 0, 5, 7, 8, 0]\n",
      "['The', 'probability', 'of', 'frame', 'loss', 'on', 'the', 'downlink', 'shall', 'be', '<', '5-Oct', '.']\n",
      "[0, 3, 4, 4, 4, 0, 0, 9, 0, 0, 5, 7, 0]\n"
     ]
    }
   ],
   "source": [
    "for i in range(10):\n",
    "    print(shao_data['train']['tokens'][i])\n",
    "    print(shao_data['train']['ner_tags'][i])"
   ]
  },
  {
   "cell_type": "code",
   "execution_count": 28,
   "metadata": {},
   "outputs": [],
   "source": [
    "df_shao = shao_data['train'].to_pandas()"
   ]
  },
  {
   "cell_type": "code",
   "execution_count": 31,
   "metadata": {},
   "outputs": [],
   "source": [
    "df_shao= df_shao.drop('id', axis=1)"
   ]
  },
  {
   "cell_type": "code",
   "execution_count": 2,
   "metadata": {},
   "outputs": [
    {
     "ename": "NameError",
     "evalue": "name 'df_shao' is not defined",
     "output_type": "error",
     "traceback": [
      "\u001b[1;31m---------------------------------------------------------------------------\u001b[0m",
      "\u001b[1;31mNameError\u001b[0m                                 Traceback (most recent call last)",
      "Cell \u001b[1;32mIn [2], line 1\u001b[0m\n\u001b[1;32m----> 1\u001b[0m df_shao \u001b[39m=\u001b[39m df_shao\u001b[39m.\u001b[39mstack()\n\u001b[0;32m      4\u001b[0m \u001b[39mprint\u001b[39m(\u001b[39m'\u001b[39m\u001b[39mHallo\u001b[39m\u001b[39m'\u001b[39m)\n",
      "\u001b[1;31mNameError\u001b[0m: name 'df_shao' is not defined"
     ]
    }
   ],
   "source": [
    "df_shao = df_shao.stack()"
   ]
  },
  {
   "cell_type": "code",
   "execution_count": 35,
   "metadata": {},
   "outputs": [],
   "source": [
    "df_shao.to_csv(\"./shao_ner.csv\")"
   ]
  },
  {
   "cell_type": "code",
   "execution_count": null,
   "metadata": {},
   "outputs": [],
   "source": []
  },
  {
   "cell_type": "code",
   "execution_count": null,
   "metadata": {},
   "outputs": [],
   "source": []
  },
  {
   "cell_type": "code",
   "execution_count": null,
   "metadata": {},
   "outputs": [],
   "source": []
  },
  {
   "cell_type": "code",
   "execution_count": null,
   "metadata": {},
   "outputs": [],
   "source": []
  },
  {
   "cell_type": "code",
   "execution_count": null,
   "metadata": {},
   "outputs": [],
   "source": []
  },
  {
   "cell_type": "code",
   "execution_count": null,
   "metadata": {},
   "outputs": [],
   "source": []
  },
  {
   "cell_type": "code",
   "execution_count": null,
   "metadata": {},
   "outputs": [],
   "source": []
  },
  {
   "cell_type": "code",
   "execution_count": null,
   "metadata": {},
   "outputs": [],
   "source": []
  },
  {
   "cell_type": "code",
   "execution_count": null,
   "metadata": {},
   "outputs": [],
   "source": []
  }
 ],
 "metadata": {
  "kernelspec": {
   "display_name": "Python 3.9.13 64-bit",
   "language": "python",
   "name": "python3"
  },
  "language_info": {
   "codemirror_mode": {
    "name": "ipython",
    "version": 3
   },
   "file_extension": ".py",
   "mimetype": "text/x-python",
   "name": "python",
   "nbconvert_exporter": "python",
   "pygments_lexer": "ipython3",
   "version": "3.9.13"
  },
  "orig_nbformat": 4,
  "vscode": {
   "interpreter": {
    "hash": "0069e35276b4b16933fc948b1a9f9ae6be664e95860c7c07ee003b238b1460ad"
   }
  }
 },
 "nbformat": 4,
 "nbformat_minor": 2
}
