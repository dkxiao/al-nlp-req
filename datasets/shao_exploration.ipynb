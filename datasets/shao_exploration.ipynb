{
 "cells": [
  {
   "cell_type": "code",
   "execution_count": 1,
   "metadata": {},
   "outputs": [],
   "source": [
    "# data exploration of shao's NER dataset\n",
    "# comparison to conll2003 dataset"
   ]
  },
  {
   "cell_type": "code",
   "execution_count": 2,
   "metadata": {},
   "outputs": [],
   "source": [
    "from datasets import load_dataset"
   ]
  },
  {
   "cell_type": "code",
   "execution_count": 5,
   "metadata": {},
   "outputs": [
    {
     "name": "stderr",
     "output_type": "stream",
     "text": [
      "Using custom data configuration limsc--requirements-entity-recognition-bbdaea1faba0d374\n",
      "Found cached dataset parquet (C:/Users/dekai/.cache/huggingface/datasets/limsc___parquet/limsc--requirements-entity-recognition-bbdaea1faba0d374/0.0.0/2a3b91fbd88a2c90d1dbbb32b460cf621d31bd5b05b934492fdef7d8d6f236ec)\n"
     ]
    },
    {
     "data": {
      "application/vnd.jupyter.widget-view+json": {
       "model_id": "b1d153a508ae43bca158ea5da547d0a2",
       "version_major": 2,
       "version_minor": 0
      },
      "text/plain": [
       "  0%|          | 0/3 [00:00<?, ?it/s]"
      ]
     },
     "metadata": {},
     "output_type": "display_data"
    },
    {
     "name": "stderr",
     "output_type": "stream",
     "text": [
      "Found cached dataset conll2003 (C:/Users/dekai/.cache/huggingface/datasets/conll2003/conll2003/1.0.0/9a4d16a94f8674ba3466315300359b0acd891b68b6c8743ddf60b9c702adce98)\n"
     ]
    },
    {
     "data": {
      "application/vnd.jupyter.widget-view+json": {
       "model_id": "9d43dc94f443445b890996bb7f51d787",
       "version_major": 2,
       "version_minor": 0
      },
      "text/plain": [
       "  0%|          | 0/3 [00:00<?, ?it/s]"
      ]
     },
     "metadata": {},
     "output_type": "display_data"
    }
   ],
   "source": [
    "shao_data = load_dataset('limsc/requirements-entity-recognition')\n",
    "conll_data = load_dataset('conll2003')"
   ]
  },
  {
   "cell_type": "code",
   "execution_count": 16,
   "metadata": {},
   "outputs": [
    {
     "data": {
      "text/plain": [
       "DatasetDict({\n",
       "    test: Dataset({\n",
       "        features: ['id', 'tokens', 'ner_tags'],\n",
       "        num_rows: 139\n",
       "    })\n",
       "    train: Dataset({\n",
       "        features: ['id', 'tokens', 'ner_tags'],\n",
       "        num_rows: 646\n",
       "    })\n",
       "    val: Dataset({\n",
       "        features: ['id', 'tokens', 'ner_tags'],\n",
       "        num_rows: 138\n",
       "    })\n",
       "})"
      ]
     },
     "execution_count": 16,
     "metadata": {},
     "output_type": "execute_result"
    }
   ],
   "source": [
    "shao_data\n"
   ]
  },
  {
   "cell_type": "code",
   "execution_count": 14,
   "metadata": {},
   "outputs": [
    {
     "name": "stdout",
     "output_type": "stream",
     "text": [
      "['The', 'operating', 'humidity', 'shall', 'be', 'between', '0.4', 'and', '0.6']\n",
      "['The', 'OIWFS', 'operating', 'in', 'LTAO', 'mode', 'using', 'off-axis', 'NGS', 'shall', 'have', 'a', 'Chief', 'ray', 'angle', 'measurement', 'accuracy', 'of', '<', '120', 'Âµrad', 'at', '0.1', 'Hz', '(1-sigma', 'accuracy)', 'when', 'using', 'a', 'K=18.0', 'guide', 'star', 'at', '60', 'arcsec', 'off-axis.']\n",
      "['Vertical', 'profiles', 'shall', 'be', 'measured', 'in', 'an', 'altitude', 'range', 'extending', 'from', '-', '0.5', 'km', 'up', 'to', '40', 'km', 'with', 'respect', 'to', 'the', 'reference', 'ellipsoid.']\n",
      "['The', 'CIS', 'CNET', 'shall', 'accommodate', 'a', 'bandwidth', 'of', 'at', 'least', '24.0575', 'Gbps', 'to', 'the', 'Computer', 'Room', '.']\n",
      "['The', 'algorithm', 'shall', 'produce', 'the', 'SST', 'product', 'that', 'has', 'a', 'measurement', 'accuracy', ',', 'skin', 'and', 'bulk,', 'of', '0.5', 'K', '.']\n",
      "['The', 'CIS', 'CNET', 'shall', 'accommodate', 'a', 'bandwidth', 'of', 'at', 'least', '0.08', 'Gbps', 'to', 'the', 'Utility', 'Room', '.']\n",
      "['The', 'algorithm', 'shall', 'produce', 'a', 'cloud', 'liquid', 'water', 'product', 'that', 'has', 'a', 'measurement', 'precision', 'of', '0.08', 'mm', 'over', 'sea.']\n",
      "['The', 'Herschel', 'spacecraft', 'shall', 'provide', 'a', 'mass', 'allocation', 'of', '465', 'kg', 'for', 'the', 'baseline', 'payload', 'accommodation', 'as', 'defined', 'in', 'IID', 'Part', 'B', '(AD4-2,', 'AD4-3', 'and', 'AD4-4)', 'including', 'margins.']\n",
      "['The', 'ASMS', 'and', 'FSMS', 'shall', 'have', 'a', 'range', 'of', 'motion', 'in', 'the', 'M2', 'segment', 'RY', 'rotation', 'degree', 'of', 'freedom', 'of', 'Â±', '3000', 'Âµrad', '.']\n",
      "['The', 'probability', 'of', 'frame', 'loss', 'on', 'the', 'downlink', 'shall', 'be', '<', '5-Oct', '.']\n"
     ]
    }
   ],
   "source": [
    "for i in range(10):\n",
    "    print(shao_data['train']['tokens'][i])"
   ]
  },
  {
   "cell_type": "code",
   "execution_count": 11,
   "metadata": {},
   "outputs": [
    {
     "data": {
      "text/plain": [
       "['EU', 'rejects', 'German', 'call', 'to', 'boycott', 'British', 'lamb', '.']"
      ]
     },
     "execution_count": 11,
     "metadata": {},
     "output_type": "execute_result"
    }
   ],
   "source": [
    "conll_data['train']['tokens'][0]"
   ]
  },
  {
   "cell_type": "code",
   "execution_count": null,
   "metadata": {},
   "outputs": [],
   "source": []
  },
  {
   "cell_type": "code",
   "execution_count": null,
   "metadata": {},
   "outputs": [],
   "source": []
  },
  {
   "cell_type": "code",
   "execution_count": null,
   "metadata": {},
   "outputs": [],
   "source": []
  },
  {
   "cell_type": "code",
   "execution_count": null,
   "metadata": {},
   "outputs": [],
   "source": []
  },
  {
   "cell_type": "code",
   "execution_count": null,
   "metadata": {},
   "outputs": [],
   "source": []
  },
  {
   "cell_type": "code",
   "execution_count": null,
   "metadata": {},
   "outputs": [],
   "source": []
  },
  {
   "cell_type": "code",
   "execution_count": null,
   "metadata": {},
   "outputs": [],
   "source": []
  },
  {
   "cell_type": "code",
   "execution_count": null,
   "metadata": {},
   "outputs": [],
   "source": []
  },
  {
   "cell_type": "code",
   "execution_count": null,
   "metadata": {},
   "outputs": [],
   "source": []
  },
  {
   "cell_type": "code",
   "execution_count": null,
   "metadata": {},
   "outputs": [],
   "source": []
  },
  {
   "cell_type": "code",
   "execution_count": null,
   "metadata": {},
   "outputs": [],
   "source": []
  },
  {
   "cell_type": "code",
   "execution_count": null,
   "metadata": {},
   "outputs": [],
   "source": []
  }
 ],
 "metadata": {
  "kernelspec": {
   "display_name": "Python 3.9.13 64-bit",
   "language": "python",
   "name": "python3"
  },
  "language_info": {
   "codemirror_mode": {
    "name": "ipython",
    "version": 3
   },
   "file_extension": ".py",
   "mimetype": "text/x-python",
   "name": "python",
   "nbconvert_exporter": "python",
   "pygments_lexer": "ipython3",
   "version": "3.9.13"
  },
  "orig_nbformat": 4,
  "vscode": {
   "interpreter": {
    "hash": "0069e35276b4b16933fc948b1a9f9ae6be664e95860c7c07ee003b238b1460ad"
   }
  }
 },
 "nbformat": 4,
 "nbformat_minor": 2
}
