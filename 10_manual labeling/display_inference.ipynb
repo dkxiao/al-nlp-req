{
 "cells": [
  {
   "cell_type": "markdown",
   "metadata": {},
   "source": [
    "## Display model inference for requirement examples"
   ]
  },
  {
   "cell_type": "code",
   "execution_count": null,
   "metadata": {},
   "outputs": [],
   "source": [
    "# perform inference on previously unseen requirements sentences based on final finetuned model"
   ]
  },
  {
   "cell_type": "code",
   "execution_count": 1,
   "metadata": {},
   "outputs": [],
   "source": [
    "from transformers import AutoTokenizer, AutoModelForTokenClassification\n",
    "from transformers import pipeline\n",
    "import spacy\n",
    "from spacy import displacy"
   ]
  },
  {
   "cell_type": "code",
   "execution_count": 3,
   "metadata": {},
   "outputs": [
    {
     "data": {
      "text/html": [
       "<span class=\"tex2jax_ignore\"><div class=\"entities\" style=\"line-height: 2.5; direction: ltr\">The \n",
       "<mark class=\"entity\" style=\"background: #D9FBAD; padding: 0.45em 0.6em; margin: 0 0.25em; line-height: 1; border-radius: 0.35em;\">\n",
       "    maximum speed\n",
       "    <span style=\"font-size: 0.8em; font-weight: bold; line-height: 1; border-radius: 0.35em; vertical-align: middle; margin-left: 0.5rem\">ATTR</span>\n",
       "</mark>\n",
       " of a \n",
       "<mark class=\"entity\" style=\"background: #C5BDF4; padding: 0.45em 0.6em; margin: 0 0.25em; line-height: 1; border-radius: 0.35em;\">\n",
       "    satellite\n",
       "    <span style=\"font-size: 0.8em; font-weight: bold; line-height: 1; border-radius: 0.35em; vertical-align: middle; margin-left: 0.5rem\">ENT</span>\n",
       "</mark>\n",
       " shall \n",
       "<mark class=\"entity\" style=\"background: #FFD882; padding: 0.45em 0.6em; margin: 0 0.25em; line-height: 1; border-radius: 0.35em;\">\n",
       "    be\n",
       "    <span style=\"font-size: 0.8em; font-weight: bold; line-height: 1; border-radius: 0.35em; vertical-align: middle; margin-left: 0.5rem\">ACT</span>\n",
       "</mark>\n",
       " \n",
       "<mark class=\"entity\" style=\"background: #FFDAF9; padding: 0.45em 0.6em; margin: 0 0.25em; line-height: 1; border-radius: 0.35em;\">\n",
       "    less than\n",
       "    <span style=\"font-size: 0.8em; font-weight: bold; line-height: 1; border-radius: 0.35em; vertical-align: middle; margin-left: 0.5rem\">RELOP</span>\n",
       "</mark>\n",
       " \n",
       "<mark class=\"entity\" style=\"background: #C2F2F6; padding: 0.45em 0.6em; margin: 0 0.25em; line-height: 1; border-radius: 0.35em;\">\n",
       "    10 km/s\n",
       "    <span style=\"font-size: 0.8em; font-weight: bold; line-height: 1; border-radius: 0.35em; vertical-align: middle; margin-left: 0.5rem\">QUANT</span>\n",
       "</mark>\n",
       "</div></span>"
      ],
      "text/plain": [
       "<IPython.core.display.HTML object>"
      ]
     },
     "metadata": {},
     "output_type": "display_data"
    },
    {
     "name": "stdout",
     "output_type": "stream",
     "text": [
      "{'entity_group': 'ATTR', 'score': 0.99525297, 'word': 'maximum speed', 'start': 4, 'end': 17}\n",
      "{'entity_group': 'ENT', 'score': 0.9807122, 'word': 'satellite', 'start': 23, 'end': 32}\n",
      "{'entity_group': 'ACT', 'score': 0.92181766, 'word': 'be', 'start': 39, 'end': 41}\n",
      "{'entity_group': 'RELOP', 'score': 0.99455047, 'word': 'less than', 'start': 42, 'end': 51}\n",
      "{'entity_group': 'QUANT', 'score': 0.99881375, 'word': '10 km / s', 'start': 52, 'end': 59}\n"
     ]
    }
   ],
   "source": [
    "tokenizer = AutoTokenizer.from_pretrained(\"bert-base-cased\")\n",
    "model = AutoModelForTokenClassification.from_pretrained(\"dxiao/bert-finetuned-ner-100percent\")\n",
    "\n",
    "pipe = pipeline(\"ner\", model=model, tokenizer=tokenizer, aggregation_strategy=\"simple\")\n",
    "\n",
    "# TYPE IN EXAMPLE HERE\n",
    "# example = \"The eigen frequencies of compact equipment and boxes in hard- mounted conditions shall be above 140 Hz\"\n",
    "# example = \"The Payload shall resist an acceleration of at least 60Gs of shocks\"\n",
    "# example = \"The mass of the CanSat shall be between 300 and 350 grams\"\n",
    "# example = \"The SKA1_Mid shall be capable of providing pulsar phase bin widths with a time resolution of better than 10 us.\"\n",
    "example = \"The maximum speed of a satellite shall be less than 10 km/s\"\n",
    "\n",
    "ner_results = pipe(example)\n",
    "\n",
    "spacy_pipe = spacy.blank(\"en\")\n",
    "doc = spacy_pipe(example)\n",
    "\n",
    "ents = []\n",
    "for i in ner_results:\n",
    "    span = doc.char_span(i['start'], i['end'], label=i['entity_group']) #None if mapping issue\n",
    "    ents.append(span)\n",
    "doc.ents = ents\n",
    "\n",
    "colors = {\"ENT\": \"#C5BDF4\", \"ACT\": \"#FFD882\", \"ATTR\": \"#D9FBAD\", \"RELOP\": \"#FFDAF9\", \"QUANT\": \"#C2F2F6\"}\n",
    "options = {\"ents\": ['ENT', 'ACT', 'ATTR', 'RELOP', 'QUANT'], \"colors\": colors}\n",
    "\n",
    "displacy.render(doc, style = 'ent', options = options)\n",
    "\n",
    "for i in ner_results:\n",
    "    print(f'{i}')"
   ]
  }
 ],
 "metadata": {
  "kernelspec": {
   "display_name": "Python 3.9.13 64-bit",
   "language": "python",
   "name": "python3"
  },
  "language_info": {
   "codemirror_mode": {
    "name": "ipython",
    "version": 3
   },
   "file_extension": ".py",
   "mimetype": "text/x-python",
   "name": "python",
   "nbconvert_exporter": "python",
   "pygments_lexer": "ipython3",
   "version": "3.9.13"
  },
  "orig_nbformat": 4,
  "vscode": {
   "interpreter": {
    "hash": "0069e35276b4b16933fc948b1a9f9ae6be664e95860c7c07ee003b238b1460ad"
   }
  }
 },
 "nbformat": 4,
 "nbformat_minor": 2
}
