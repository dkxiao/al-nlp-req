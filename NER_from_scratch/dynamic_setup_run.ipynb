{
 "cells": [
  {
   "cell_type": "code",
   "execution_count": null,
   "metadata": {},
   "outputs": [],
   "source": [
    "# new experimental setup based on dynamic validation set size and fixed test set size\n",
    "# Active Learning from scratch run\n",
    "# based on random sampling by increasing dataset step by step\n",
    "\n",
    "# 1. Dynamic function to split datasets accordingly based on al_step\n",
    "# 2. 5% stepwise approach with stop at 60% -> 12 steps\n",
    "# 3. retrain from scratch every time [CHECK]\n",
    "# 4. final evaluation in same step by using local model [CHECK]\n",
    "\n",
    "# maybe in the future: early epoch stopping based on validation loss"
   ]
  },
  {
   "cell_type": "code",
   "execution_count": null,
   "metadata": {},
   "outputs": [],
   "source": []
  }
 ],
 "metadata": {
  "kernelspec": {
   "display_name": "Python 3.9.13 64-bit",
   "language": "python",
   "name": "python3"
  },
  "language_info": {
   "name": "python",
   "version": "3.9.13"
  },
  "orig_nbformat": 4,
  "vscode": {
   "interpreter": {
    "hash": "0069e35276b4b16933fc948b1a9f9ae6be664e95860c7c07ee003b238b1460ad"
   }
  }
 },
 "nbformat": 4,
 "nbformat_minor": 2
}
