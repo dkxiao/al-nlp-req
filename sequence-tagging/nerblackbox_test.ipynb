{
 "cells": [
  {
   "cell_type": "code",
   "execution_count": 1,
   "metadata": {},
   "outputs": [],
   "source": [
    "# test of ner blackbox libray\n",
    "# especially if output models are huggingface conform and return probabilities of tagged entities\n",
    "\n",
    "# RESULT: Does not work, run into issues with integrating MLflows tracking. Maybe revisit later"
   ]
  },
  {
   "cell_type": "code",
   "execution_count": 2,
   "metadata": {},
   "outputs": [
    {
     "name": "stderr",
     "output_type": "stream",
     "text": [
      "c:\\Users\\dekai\\AppData\\Local\\Programs\\Python\\Python39\\lib\\site-packages\\tqdm\\auto.py:22: TqdmWarning: IProgress not found. Please update jupyter and ipywidgets. See https://ipywidgets.readthedocs.io/en/stable/user_install.html\n",
      "  from .autonotebook import tqdm as notebook_tqdm\n"
     ]
    },
    {
     "name": "stdout",
     "output_type": "stream",
     "text": [
      "BASE_DIR =  c:\\Arbeitsplatz\\20 Master\\Masterarbeit\\50 Code\\al-nlp-req\\sequence-tagging\n",
      "DATA_DIR =  c:\\Arbeitsplatz\\20 Master\\Masterarbeit\\50 Code\\al-nlp-req\\sequence-tagging\\data\n"
     ]
    }
   ],
   "source": [
    "from nerblackbox import NerBlackBox\n",
    "nerbb = NerBlackBox()"
   ]
  },
  {
   "cell_type": "code",
   "execution_count": 10,
   "metadata": {},
   "outputs": [
    {
     "ename": "UnsupportedModelRegistryStoreURIException",
     "evalue": "Unsupported URI 'c:\\Arbeitsplatz\\20 Master\\Masterarbeit\\50 Code\\al-nlp-req\\sequence-tagging\\data/results/mlruns' for model registry store. Supported schemes are: ['', 'file', 'databricks', 'http', 'https', 'postgresql', 'mysql', 'sqlite', 'mssql']. See https://www.mlflow.org/docs/latest/tracking.html#storage for how to setup a compatible server.",
     "output_type": "error",
     "traceback": [
      "\u001b[1;31m---------------------------------------------------------------------------\u001b[0m",
      "\u001b[1;31mKeyError\u001b[0m                                  Traceback (most recent call last)",
      "File \u001b[1;32mc:\\Users\\dekai\\AppData\\Local\\Programs\\Python\\Python39\\lib\\site-packages\\mlflow\\tracking\\registry.py:73\u001b[0m, in \u001b[0;36mStoreRegistry.get_store_builder\u001b[1;34m(self, store_uri)\u001b[0m\n\u001b[0;32m     72\u001b[0m \u001b[39mtry\u001b[39;00m:\n\u001b[1;32m---> 73\u001b[0m     store_builder \u001b[39m=\u001b[39m \u001b[39mself\u001b[39;49m\u001b[39m.\u001b[39;49m_registry[scheme]\n\u001b[0;32m     74\u001b[0m \u001b[39mexcept\u001b[39;00m \u001b[39mKeyError\u001b[39;00m:\n",
      "\u001b[1;31mKeyError\u001b[0m: 'c'",
      "\nDuring handling of the above exception, another exception occurred:\n",
      "\u001b[1;31mUnsupportedModelRegistryStoreURIException\u001b[0m Traceback (most recent call last)",
      "Cell \u001b[1;32mIn [10], line 1\u001b[0m\n\u001b[1;32m----> 1\u001b[0m nerbb\u001b[39m.\u001b[39;49minit()\n",
      "File \u001b[1;32mc:\\Users\\dekai\\AppData\\Local\\Programs\\Python\\Python39\\lib\\site-packages\\nerblackbox\\api.py:127\u001b[0m, in \u001b[0;36mNerBlackBox.init\u001b[1;34m(self)\u001b[0m\n\u001b[0;32m    122\u001b[0m \u001b[39m\"\"\"initialize the data_dir directory.\u001b[39;00m\n\u001b[0;32m    123\u001b[0m \u001b[39mneeds to be called exactly once before any other CLI/API commands of the package are executed.\u001b[39;00m\n\u001b[0;32m    124\u001b[0m \u001b[39m\"\"\"\u001b[39;00m\n\u001b[0;32m    125\u001b[0m _ \u001b[39m=\u001b[39m \u001b[39mself\u001b[39m\u001b[39m.\u001b[39m_process_kwargs_optional()\n\u001b[1;32m--> 127\u001b[0m nerbb \u001b[39m=\u001b[39m NerBlackBoxMain(\u001b[39m\"\u001b[39;49m\u001b[39minit\u001b[39;49m\u001b[39m\"\u001b[39;49m)\n\u001b[0;32m    128\u001b[0m nerbb\u001b[39m.\u001b[39mmain()\n",
      "File \u001b[1;32mc:\\Users\\dekai\\AppData\\Local\\Programs\\Python\\Python39\\lib\\site-packages\\nerblackbox\\modules\\main.py:133\u001b[0m, in \u001b[0;36mNerBlackBoxMain.__init__\u001b[1;34m(self, flag, usage, dataset_name, dataset_subset_name, modify, val_fraction, verbose, experiment_name, hparams, from_preset, from_config, run_name, device, fp16, text_input, ids, as_df, results)\u001b[0m\n\u001b[0;32m    131\u001b[0m data_dir \u001b[39m=\u001b[39m env_variable(\u001b[39m\"\u001b[39m\u001b[39mDATA_DIR\u001b[39m\u001b[39m\"\u001b[39m)\n\u001b[0;32m    132\u001b[0m \u001b[39mif\u001b[39;00m os\u001b[39m.\u001b[39mpath\u001b[39m.\u001b[39misdir(data_dir):\n\u001b[1;32m--> 133\u001b[0m     \u001b[39mself\u001b[39;49m\u001b[39m.\u001b[39;49m_set_client_and_get_experiments()\n\u001b[0;32m    134\u001b[0m \u001b[39melse\u001b[39;00m:\n\u001b[0;32m    135\u001b[0m     \u001b[39m# will be set in init() method\u001b[39;00m\n\u001b[0;32m    136\u001b[0m     \u001b[39mself\u001b[39m\u001b[39m.\u001b[39mclient \u001b[39m=\u001b[39m \u001b[39mNone\u001b[39;00m\n",
      "File \u001b[1;32mc:\\Users\\dekai\\AppData\\Local\\Programs\\Python\\Python39\\lib\\site-packages\\nerblackbox\\modules\\main.py:677\u001b[0m, in \u001b[0;36mNerBlackBoxMain._set_client_and_get_experiments\u001b[1;34m(self)\u001b[0m\n\u001b[0;32m    670\u001b[0m \u001b[39mdef\u001b[39;00m \u001b[39m_set_client_and_get_experiments\u001b[39m(\u001b[39mself\u001b[39m) \u001b[39m-\u001b[39m\u001b[39m>\u001b[39m \u001b[39mNone\u001b[39;00m:\n\u001b[0;32m    671\u001b[0m     \u001b[39m\"\"\"\u001b[39;00m\n\u001b[0;32m    672\u001b[0m \u001b[39m    :created attr: client             [Mlflow client]\u001b[39;00m\n\u001b[0;32m    673\u001b[0m \u001b[39m    :created attr: experiment_id2name [dict] w/ keys = experiment_id [str] & values = experiment_name [str]\u001b[39;00m\n\u001b[0;32m    674\u001b[0m \u001b[39m    :created attr: experiment_name2id [dict] w/ keys = experiment_name [str] & values = experiment_id [str]\u001b[39;00m\n\u001b[0;32m    675\u001b[0m \u001b[39m    :return: -\u001b[39;00m\n\u001b[0;32m    676\u001b[0m \u001b[39m    \"\"\"\u001b[39;00m\n\u001b[1;32m--> 677\u001b[0m     \u001b[39mself\u001b[39m\u001b[39m.\u001b[39mclient \u001b[39m=\u001b[39m MlflowClient()\n\u001b[0;32m    678\u001b[0m     \u001b[39mself\u001b[39m\u001b[39m.\u001b[39m_get_experiments()\n",
      "File \u001b[1;32mc:\\Users\\dekai\\AppData\\Local\\Programs\\Python\\Python39\\lib\\site-packages\\mlflow\\tracking\\client.py:41\u001b[0m, in \u001b[0;36mMlflowClient.__init__\u001b[1;34m(self, tracking_uri, registry_uri)\u001b[0m\n\u001b[0;32m     39\u001b[0m final_tracking_uri \u001b[39m=\u001b[39m tracking_uri \u001b[39mor\u001b[39;00m utils\u001b[39m.\u001b[39mget_tracking_uri()\n\u001b[0;32m     40\u001b[0m \u001b[39mself\u001b[39m\u001b[39m.\u001b[39m_registry_uri \u001b[39m=\u001b[39m registry_uri \u001b[39mor\u001b[39;00m final_tracking_uri\n\u001b[1;32m---> 41\u001b[0m \u001b[39mself\u001b[39m\u001b[39m.\u001b[39m_tracking_client \u001b[39m=\u001b[39m TrackingServiceClient(final_tracking_uri)\n",
      "File \u001b[1;32mc:\\Users\\dekai\\AppData\\Local\\Programs\\Python\\Python39\\lib\\site-packages\\mlflow\\tracking\\_tracking_service\\client.py:32\u001b[0m, in \u001b[0;36mTrackingServiceClient.__init__\u001b[1;34m(self, tracking_uri)\u001b[0m\n\u001b[0;32m     28\u001b[0m \u001b[39m\"\"\"\u001b[39;00m\n\u001b[0;32m     29\u001b[0m \u001b[39m:param tracking_uri: Address of local or remote tracking server.\u001b[39;00m\n\u001b[0;32m     30\u001b[0m \u001b[39m\"\"\"\u001b[39;00m\n\u001b[0;32m     31\u001b[0m \u001b[39mself\u001b[39m\u001b[39m.\u001b[39mtracking_uri \u001b[39m=\u001b[39m tracking_uri\n\u001b[1;32m---> 32\u001b[0m \u001b[39mself\u001b[39m\u001b[39m.\u001b[39mstore \u001b[39m=\u001b[39m utils\u001b[39m.\u001b[39;49m_get_store(\u001b[39mself\u001b[39;49m\u001b[39m.\u001b[39;49mtracking_uri)\n",
      "File \u001b[1;32mc:\\Users\\dekai\\AppData\\Local\\Programs\\Python\\Python39\\lib\\site-packages\\mlflow\\tracking\\_tracking_service\\utils.py:114\u001b[0m, in \u001b[0;36m_get_store\u001b[1;34m(store_uri, artifact_uri)\u001b[0m\n\u001b[0;32m    113\u001b[0m \u001b[39mdef\u001b[39;00m \u001b[39m_get_store\u001b[39m(store_uri\u001b[39m=\u001b[39m\u001b[39mNone\u001b[39;00m, artifact_uri\u001b[39m=\u001b[39m\u001b[39mNone\u001b[39;00m):\n\u001b[1;32m--> 114\u001b[0m     \u001b[39mreturn\u001b[39;00m _tracking_store_registry\u001b[39m.\u001b[39;49mget_store(store_uri, artifact_uri)\n",
      "File \u001b[1;32mc:\\Users\\dekai\\AppData\\Local\\Programs\\Python\\Python39\\lib\\site-packages\\mlflow\\tracking\\_tracking_service\\registry.py:36\u001b[0m, in \u001b[0;36mTrackingStoreRegistry.get_store\u001b[1;34m(self, store_uri, artifact_uri)\u001b[0m\n\u001b[0;32m     34\u001b[0m \u001b[39mfrom\u001b[39;00m \u001b[39mmlflow\u001b[39;00m\u001b[39m.\u001b[39;00m\u001b[39mtracking\u001b[39;00m\u001b[39m.\u001b[39;00m\u001b[39m_tracking_service\u001b[39;00m \u001b[39mimport\u001b[39;00m utils\n\u001b[0;32m     35\u001b[0m store_uri \u001b[39m=\u001b[39m store_uri \u001b[39mif\u001b[39;00m store_uri \u001b[39mis\u001b[39;00m \u001b[39mnot\u001b[39;00m \u001b[39mNone\u001b[39;00m \u001b[39melse\u001b[39;00m utils\u001b[39m.\u001b[39mget_tracking_uri()\n\u001b[1;32m---> 36\u001b[0m builder \u001b[39m=\u001b[39m \u001b[39mself\u001b[39;49m\u001b[39m.\u001b[39;49mget_store_builder(store_uri)\n\u001b[0;32m     37\u001b[0m \u001b[39mreturn\u001b[39;00m builder(store_uri\u001b[39m=\u001b[39mstore_uri, artifact_uri\u001b[39m=\u001b[39martifact_uri)\n",
      "File \u001b[1;32mc:\\Users\\dekai\\AppData\\Local\\Programs\\Python\\Python39\\lib\\site-packages\\mlflow\\tracking\\registry.py:75\u001b[0m, in \u001b[0;36mStoreRegistry.get_store_builder\u001b[1;34m(self, store_uri)\u001b[0m\n\u001b[0;32m     73\u001b[0m     store_builder \u001b[39m=\u001b[39m \u001b[39mself\u001b[39m\u001b[39m.\u001b[39m_registry[scheme]\n\u001b[0;32m     74\u001b[0m \u001b[39mexcept\u001b[39;00m \u001b[39mKeyError\u001b[39;00m:\n\u001b[1;32m---> 75\u001b[0m     \u001b[39mraise\u001b[39;00m UnsupportedModelRegistryStoreURIException(\n\u001b[0;32m     76\u001b[0m         unsupported_uri\u001b[39m=\u001b[39mstore_uri,\n\u001b[0;32m     77\u001b[0m         supported_uri_schemes\u001b[39m=\u001b[39m\u001b[39mlist\u001b[39m(\u001b[39mself\u001b[39m\u001b[39m.\u001b[39m_registry\u001b[39m.\u001b[39mkeys()))\n\u001b[0;32m     78\u001b[0m \u001b[39mreturn\u001b[39;00m store_builder\n",
      "\u001b[1;31mUnsupportedModelRegistryStoreURIException\u001b[0m: Unsupported URI 'c:\\Arbeitsplatz\\20 Master\\Masterarbeit\\50 Code\\al-nlp-req\\sequence-tagging\\data/results/mlruns' for model registry store. Supported schemes are: ['', 'file', 'databricks', 'http', 'https', 'postgresql', 'mysql', 'sqlite', 'mssql']. See https://www.mlflow.org/docs/latest/tracking.html#storage for how to setup a compatible server."
     ]
    }
   ],
   "source": [
    "nerbb.init()"
   ]
  },
  {
   "cell_type": "code",
   "execution_count": 7,
   "metadata": {},
   "outputs": [
    {
     "ename": "UnsupportedModelRegistryStoreURIException",
     "evalue": "Unsupported URI 'c:\\Arbeitsplatz\\20 Master\\Masterarbeit\\50 Code\\al-nlp-req\\sequence-tagging\\data/results/mlruns' for model registry store. Supported schemes are: ['', 'file', 'databricks', 'http', 'https', 'postgresql', 'mysql', 'sqlite', 'mssql']. See https://www.mlflow.org/docs/latest/tracking.html#storage for how to setup a compatible server.",
     "output_type": "error",
     "traceback": [
      "\u001b[1;31m---------------------------------------------------------------------------\u001b[0m",
      "\u001b[1;31mKeyError\u001b[0m                                  Traceback (most recent call last)",
      "File \u001b[1;32mc:\\Users\\dekai\\AppData\\Local\\Programs\\Python\\Python39\\lib\\site-packages\\mlflow\\tracking\\registry.py:73\u001b[0m, in \u001b[0;36mStoreRegistry.get_store_builder\u001b[1;34m(self, store_uri)\u001b[0m\n\u001b[0;32m     72\u001b[0m \u001b[39mtry\u001b[39;00m:\n\u001b[1;32m---> 73\u001b[0m     store_builder \u001b[39m=\u001b[39m \u001b[39mself\u001b[39;49m\u001b[39m.\u001b[39;49m_registry[scheme]\n\u001b[0;32m     74\u001b[0m \u001b[39mexcept\u001b[39;00m \u001b[39mKeyError\u001b[39;00m:\n",
      "\u001b[1;31mKeyError\u001b[0m: 'c'",
      "\nDuring handling of the above exception, another exception occurred:\n",
      "\u001b[1;31mUnsupportedModelRegistryStoreURIException\u001b[0m Traceback (most recent call last)",
      "Cell \u001b[1;32mIn [7], line 1\u001b[0m\n\u001b[1;32m----> 1\u001b[0m nerbb\u001b[39m.\u001b[39;49mset_up_dataset(\u001b[39m\"\u001b[39;49m\u001b[39mconll2003\u001b[39;49m\u001b[39m\"\u001b[39;49m)\n",
      "File \u001b[1;32mc:\\Users\\dekai\\AppData\\Local\\Programs\\Python\\Python39\\lib\\site-packages\\nerblackbox\\api.py:225\u001b[0m, in \u001b[0;36mNerBlackBox.set_up_dataset\u001b[1;34m(self, dataset_name, dataset_subset_name, **kwargs_optional)\u001b[0m\n\u001b[0;32m    222\u001b[0m kwargs[\u001b[39m\"\u001b[39m\u001b[39mdataset_name\u001b[39m\u001b[39m\"\u001b[39m] \u001b[39m=\u001b[39m dataset_name\n\u001b[0;32m    223\u001b[0m kwargs[\u001b[39m\"\u001b[39m\u001b[39mdataset_subset_name\u001b[39m\u001b[39m\"\u001b[39m] \u001b[39m=\u001b[39m dataset_subset_name\n\u001b[1;32m--> 225\u001b[0m nerbb \u001b[39m=\u001b[39m NerBlackBoxMain(\u001b[39m\"\u001b[39m\u001b[39mset_up_dataset\u001b[39m\u001b[39m\"\u001b[39m, \u001b[39m*\u001b[39m\u001b[39m*\u001b[39mkwargs)\n\u001b[0;32m    226\u001b[0m nerbb\u001b[39m.\u001b[39mmain()\n",
      "File \u001b[1;32mc:\\Users\\dekai\\AppData\\Local\\Programs\\Python\\Python39\\lib\\site-packages\\nerblackbox\\modules\\main.py:133\u001b[0m, in \u001b[0;36mNerBlackBoxMain.__init__\u001b[1;34m(self, flag, usage, dataset_name, dataset_subset_name, modify, val_fraction, verbose, experiment_name, hparams, from_preset, from_config, run_name, device, fp16, text_input, ids, as_df, results)\u001b[0m\n\u001b[0;32m    131\u001b[0m data_dir \u001b[39m=\u001b[39m env_variable(\u001b[39m\"\u001b[39m\u001b[39mDATA_DIR\u001b[39m\u001b[39m\"\u001b[39m)\n\u001b[0;32m    132\u001b[0m \u001b[39mif\u001b[39;00m os\u001b[39m.\u001b[39mpath\u001b[39m.\u001b[39misdir(data_dir):\n\u001b[1;32m--> 133\u001b[0m     \u001b[39mself\u001b[39;49m\u001b[39m.\u001b[39;49m_set_client_and_get_experiments()\n\u001b[0;32m    134\u001b[0m \u001b[39melse\u001b[39;00m:\n\u001b[0;32m    135\u001b[0m     \u001b[39m# will be set in init() method\u001b[39;00m\n\u001b[0;32m    136\u001b[0m     \u001b[39mself\u001b[39m\u001b[39m.\u001b[39mclient \u001b[39m=\u001b[39m \u001b[39mNone\u001b[39;00m\n",
      "File \u001b[1;32mc:\\Users\\dekai\\AppData\\Local\\Programs\\Python\\Python39\\lib\\site-packages\\nerblackbox\\modules\\main.py:677\u001b[0m, in \u001b[0;36mNerBlackBoxMain._set_client_and_get_experiments\u001b[1;34m(self)\u001b[0m\n\u001b[0;32m    670\u001b[0m \u001b[39mdef\u001b[39;00m \u001b[39m_set_client_and_get_experiments\u001b[39m(\u001b[39mself\u001b[39m) \u001b[39m-\u001b[39m\u001b[39m>\u001b[39m \u001b[39mNone\u001b[39;00m:\n\u001b[0;32m    671\u001b[0m     \u001b[39m\"\"\"\u001b[39;00m\n\u001b[0;32m    672\u001b[0m \u001b[39m    :created attr: client             [Mlflow client]\u001b[39;00m\n\u001b[0;32m    673\u001b[0m \u001b[39m    :created attr: experiment_id2name [dict] w/ keys = experiment_id [str] & values = experiment_name [str]\u001b[39;00m\n\u001b[0;32m    674\u001b[0m \u001b[39m    :created attr: experiment_name2id [dict] w/ keys = experiment_name [str] & values = experiment_id [str]\u001b[39;00m\n\u001b[0;32m    675\u001b[0m \u001b[39m    :return: -\u001b[39;00m\n\u001b[0;32m    676\u001b[0m \u001b[39m    \"\"\"\u001b[39;00m\n\u001b[1;32m--> 677\u001b[0m     \u001b[39mself\u001b[39m\u001b[39m.\u001b[39mclient \u001b[39m=\u001b[39m MlflowClient()\n\u001b[0;32m    678\u001b[0m     \u001b[39mself\u001b[39m\u001b[39m.\u001b[39m_get_experiments()\n",
      "File \u001b[1;32mc:\\Users\\dekai\\AppData\\Local\\Programs\\Python\\Python39\\lib\\site-packages\\mlflow\\tracking\\client.py:41\u001b[0m, in \u001b[0;36mMlflowClient.__init__\u001b[1;34m(self, tracking_uri, registry_uri)\u001b[0m\n\u001b[0;32m     39\u001b[0m final_tracking_uri \u001b[39m=\u001b[39m tracking_uri \u001b[39mor\u001b[39;00m utils\u001b[39m.\u001b[39mget_tracking_uri()\n\u001b[0;32m     40\u001b[0m \u001b[39mself\u001b[39m\u001b[39m.\u001b[39m_registry_uri \u001b[39m=\u001b[39m registry_uri \u001b[39mor\u001b[39;00m final_tracking_uri\n\u001b[1;32m---> 41\u001b[0m \u001b[39mself\u001b[39m\u001b[39m.\u001b[39m_tracking_client \u001b[39m=\u001b[39m TrackingServiceClient(final_tracking_uri)\n",
      "File \u001b[1;32mc:\\Users\\dekai\\AppData\\Local\\Programs\\Python\\Python39\\lib\\site-packages\\mlflow\\tracking\\_tracking_service\\client.py:32\u001b[0m, in \u001b[0;36mTrackingServiceClient.__init__\u001b[1;34m(self, tracking_uri)\u001b[0m\n\u001b[0;32m     28\u001b[0m \u001b[39m\"\"\"\u001b[39;00m\n\u001b[0;32m     29\u001b[0m \u001b[39m:param tracking_uri: Address of local or remote tracking server.\u001b[39;00m\n\u001b[0;32m     30\u001b[0m \u001b[39m\"\"\"\u001b[39;00m\n\u001b[0;32m     31\u001b[0m \u001b[39mself\u001b[39m\u001b[39m.\u001b[39mtracking_uri \u001b[39m=\u001b[39m tracking_uri\n\u001b[1;32m---> 32\u001b[0m \u001b[39mself\u001b[39m\u001b[39m.\u001b[39mstore \u001b[39m=\u001b[39m utils\u001b[39m.\u001b[39;49m_get_store(\u001b[39mself\u001b[39;49m\u001b[39m.\u001b[39;49mtracking_uri)\n",
      "File \u001b[1;32mc:\\Users\\dekai\\AppData\\Local\\Programs\\Python\\Python39\\lib\\site-packages\\mlflow\\tracking\\_tracking_service\\utils.py:114\u001b[0m, in \u001b[0;36m_get_store\u001b[1;34m(store_uri, artifact_uri)\u001b[0m\n\u001b[0;32m    113\u001b[0m \u001b[39mdef\u001b[39;00m \u001b[39m_get_store\u001b[39m(store_uri\u001b[39m=\u001b[39m\u001b[39mNone\u001b[39;00m, artifact_uri\u001b[39m=\u001b[39m\u001b[39mNone\u001b[39;00m):\n\u001b[1;32m--> 114\u001b[0m     \u001b[39mreturn\u001b[39;00m _tracking_store_registry\u001b[39m.\u001b[39;49mget_store(store_uri, artifact_uri)\n",
      "File \u001b[1;32mc:\\Users\\dekai\\AppData\\Local\\Programs\\Python\\Python39\\lib\\site-packages\\mlflow\\tracking\\_tracking_service\\registry.py:36\u001b[0m, in \u001b[0;36mTrackingStoreRegistry.get_store\u001b[1;34m(self, store_uri, artifact_uri)\u001b[0m\n\u001b[0;32m     34\u001b[0m \u001b[39mfrom\u001b[39;00m \u001b[39mmlflow\u001b[39;00m\u001b[39m.\u001b[39;00m\u001b[39mtracking\u001b[39;00m\u001b[39m.\u001b[39;00m\u001b[39m_tracking_service\u001b[39;00m \u001b[39mimport\u001b[39;00m utils\n\u001b[0;32m     35\u001b[0m store_uri \u001b[39m=\u001b[39m store_uri \u001b[39mif\u001b[39;00m store_uri \u001b[39mis\u001b[39;00m \u001b[39mnot\u001b[39;00m \u001b[39mNone\u001b[39;00m \u001b[39melse\u001b[39;00m utils\u001b[39m.\u001b[39mget_tracking_uri()\n\u001b[1;32m---> 36\u001b[0m builder \u001b[39m=\u001b[39m \u001b[39mself\u001b[39;49m\u001b[39m.\u001b[39;49mget_store_builder(store_uri)\n\u001b[0;32m     37\u001b[0m \u001b[39mreturn\u001b[39;00m builder(store_uri\u001b[39m=\u001b[39mstore_uri, artifact_uri\u001b[39m=\u001b[39martifact_uri)\n",
      "File \u001b[1;32mc:\\Users\\dekai\\AppData\\Local\\Programs\\Python\\Python39\\lib\\site-packages\\mlflow\\tracking\\registry.py:75\u001b[0m, in \u001b[0;36mStoreRegistry.get_store_builder\u001b[1;34m(self, store_uri)\u001b[0m\n\u001b[0;32m     73\u001b[0m     store_builder \u001b[39m=\u001b[39m \u001b[39mself\u001b[39m\u001b[39m.\u001b[39m_registry[scheme]\n\u001b[0;32m     74\u001b[0m \u001b[39mexcept\u001b[39;00m \u001b[39mKeyError\u001b[39;00m:\n\u001b[1;32m---> 75\u001b[0m     \u001b[39mraise\u001b[39;00m UnsupportedModelRegistryStoreURIException(\n\u001b[0;32m     76\u001b[0m         unsupported_uri\u001b[39m=\u001b[39mstore_uri,\n\u001b[0;32m     77\u001b[0m         supported_uri_schemes\u001b[39m=\u001b[39m\u001b[39mlist\u001b[39m(\u001b[39mself\u001b[39m\u001b[39m.\u001b[39m_registry\u001b[39m.\u001b[39mkeys()))\n\u001b[0;32m     78\u001b[0m \u001b[39mreturn\u001b[39;00m store_builder\n",
      "\u001b[1;31mUnsupportedModelRegistryStoreURIException\u001b[0m: Unsupported URI 'c:\\Arbeitsplatz\\20 Master\\Masterarbeit\\50 Code\\al-nlp-req\\sequence-tagging\\data/results/mlruns' for model registry store. Supported schemes are: ['', 'file', 'databricks', 'http', 'https', 'postgresql', 'mysql', 'sqlite', 'mssql']. See https://www.mlflow.org/docs/latest/tracking.html#storage for how to setup a compatible server."
     ]
    }
   ],
   "source": [
    "nerbb.set_up_dataset(\"conll2003\")"
   ]
  },
  {
   "cell_type": "code",
   "execution_count": 8,
   "metadata": {},
   "outputs": [
    {
     "ename": "UnsupportedModelRegistryStoreURIException",
     "evalue": "Unsupported URI 'c:\\Arbeitsplatz\\20 Master\\Masterarbeit\\50 Code\\al-nlp-req\\sequence-tagging\\data/results/mlruns' for model registry store. Supported schemes are: ['', 'file', 'databricks', 'http', 'https', 'postgresql', 'mysql', 'sqlite', 'mssql']. See https://www.mlflow.org/docs/latest/tracking.html#storage for how to setup a compatible server.",
     "output_type": "error",
     "traceback": [
      "\u001b[1;31m---------------------------------------------------------------------------\u001b[0m",
      "\u001b[1;31mKeyError\u001b[0m                                  Traceback (most recent call last)",
      "File \u001b[1;32mc:\\Users\\dekai\\AppData\\Local\\Programs\\Python\\Python39\\lib\\site-packages\\mlflow\\tracking\\registry.py:73\u001b[0m, in \u001b[0;36mStoreRegistry.get_store_builder\u001b[1;34m(self, store_uri)\u001b[0m\n\u001b[0;32m     72\u001b[0m \u001b[39mtry\u001b[39;00m:\n\u001b[1;32m---> 73\u001b[0m     store_builder \u001b[39m=\u001b[39m \u001b[39mself\u001b[39;49m\u001b[39m.\u001b[39;49m_registry[scheme]\n\u001b[0;32m     74\u001b[0m \u001b[39mexcept\u001b[39;00m \u001b[39mKeyError\u001b[39;00m:\n",
      "\u001b[1;31mKeyError\u001b[0m: 'c'",
      "\nDuring handling of the above exception, another exception occurred:\n",
      "\u001b[1;31mUnsupportedModelRegistryStoreURIException\u001b[0m Traceback (most recent call last)",
      "Cell \u001b[1;32mIn [8], line 1\u001b[0m\n\u001b[1;32m----> 1\u001b[0m nerbb\u001b[39m.\u001b[39;49mrun_experiment(\u001b[39m\"\u001b[39;49m\u001b[39mmy_experiment\u001b[39;49m\u001b[39m\"\u001b[39;49m, model\u001b[39m=\u001b[39;49m\u001b[39m\"\u001b[39;49m\u001b[39mbert-base-cased\u001b[39;49m\u001b[39m\"\u001b[39;49m, dataset\u001b[39m=\u001b[39;49m\u001b[39m\"\u001b[39;49m\u001b[39mconll2003\u001b[39;49m\u001b[39m\"\u001b[39;49m)\n",
      "File \u001b[1;32mc:\\Users\\dekai\\AppData\\Local\\Programs\\Python\\Python39\\lib\\site-packages\\nerblackbox\\api.py:206\u001b[0m, in \u001b[0;36mNerBlackBox.run_experiment\u001b[1;34m(self, experiment_name, from_config, model, dataset, from_preset, **kwargs_optional)\u001b[0m\n\u001b[0;32m    203\u001b[0m \u001b[39mif\u001b[39;00m kwargs[\u001b[39m\"\u001b[39m\u001b[39mhparams\u001b[39m\u001b[39m\"\u001b[39m] \u001b[39m==\u001b[39m {}:\n\u001b[0;32m    204\u001b[0m     kwargs[\u001b[39m\"\u001b[39m\u001b[39mhparams\u001b[39m\u001b[39m\"\u001b[39m] \u001b[39m=\u001b[39m \u001b[39mNone\u001b[39;00m\n\u001b[1;32m--> 206\u001b[0m nerbb \u001b[39m=\u001b[39m NerBlackBoxMain(\u001b[39m\"\u001b[39m\u001b[39mrun_experiment\u001b[39m\u001b[39m\"\u001b[39m, \u001b[39m*\u001b[39m\u001b[39m*\u001b[39mkwargs)\n\u001b[0;32m    207\u001b[0m nerbb\u001b[39m.\u001b[39mmain()\n",
      "File \u001b[1;32mc:\\Users\\dekai\\AppData\\Local\\Programs\\Python\\Python39\\lib\\site-packages\\nerblackbox\\modules\\main.py:133\u001b[0m, in \u001b[0;36mNerBlackBoxMain.__init__\u001b[1;34m(self, flag, usage, dataset_name, dataset_subset_name, modify, val_fraction, verbose, experiment_name, hparams, from_preset, from_config, run_name, device, fp16, text_input, ids, as_df, results)\u001b[0m\n\u001b[0;32m    131\u001b[0m data_dir \u001b[39m=\u001b[39m env_variable(\u001b[39m\"\u001b[39m\u001b[39mDATA_DIR\u001b[39m\u001b[39m\"\u001b[39m)\n\u001b[0;32m    132\u001b[0m \u001b[39mif\u001b[39;00m os\u001b[39m.\u001b[39mpath\u001b[39m.\u001b[39misdir(data_dir):\n\u001b[1;32m--> 133\u001b[0m     \u001b[39mself\u001b[39;49m\u001b[39m.\u001b[39;49m_set_client_and_get_experiments()\n\u001b[0;32m    134\u001b[0m \u001b[39melse\u001b[39;00m:\n\u001b[0;32m    135\u001b[0m     \u001b[39m# will be set in init() method\u001b[39;00m\n\u001b[0;32m    136\u001b[0m     \u001b[39mself\u001b[39m\u001b[39m.\u001b[39mclient \u001b[39m=\u001b[39m \u001b[39mNone\u001b[39;00m\n",
      "File \u001b[1;32mc:\\Users\\dekai\\AppData\\Local\\Programs\\Python\\Python39\\lib\\site-packages\\nerblackbox\\modules\\main.py:677\u001b[0m, in \u001b[0;36mNerBlackBoxMain._set_client_and_get_experiments\u001b[1;34m(self)\u001b[0m\n\u001b[0;32m    670\u001b[0m \u001b[39mdef\u001b[39;00m \u001b[39m_set_client_and_get_experiments\u001b[39m(\u001b[39mself\u001b[39m) \u001b[39m-\u001b[39m\u001b[39m>\u001b[39m \u001b[39mNone\u001b[39;00m:\n\u001b[0;32m    671\u001b[0m     \u001b[39m\"\"\"\u001b[39;00m\n\u001b[0;32m    672\u001b[0m \u001b[39m    :created attr: client             [Mlflow client]\u001b[39;00m\n\u001b[0;32m    673\u001b[0m \u001b[39m    :created attr: experiment_id2name [dict] w/ keys = experiment_id [str] & values = experiment_name [str]\u001b[39;00m\n\u001b[0;32m    674\u001b[0m \u001b[39m    :created attr: experiment_name2id [dict] w/ keys = experiment_name [str] & values = experiment_id [str]\u001b[39;00m\n\u001b[0;32m    675\u001b[0m \u001b[39m    :return: -\u001b[39;00m\n\u001b[0;32m    676\u001b[0m \u001b[39m    \"\"\"\u001b[39;00m\n\u001b[1;32m--> 677\u001b[0m     \u001b[39mself\u001b[39m\u001b[39m.\u001b[39mclient \u001b[39m=\u001b[39m MlflowClient()\n\u001b[0;32m    678\u001b[0m     \u001b[39mself\u001b[39m\u001b[39m.\u001b[39m_get_experiments()\n",
      "File \u001b[1;32mc:\\Users\\dekai\\AppData\\Local\\Programs\\Python\\Python39\\lib\\site-packages\\mlflow\\tracking\\client.py:41\u001b[0m, in \u001b[0;36mMlflowClient.__init__\u001b[1;34m(self, tracking_uri, registry_uri)\u001b[0m\n\u001b[0;32m     39\u001b[0m final_tracking_uri \u001b[39m=\u001b[39m tracking_uri \u001b[39mor\u001b[39;00m utils\u001b[39m.\u001b[39mget_tracking_uri()\n\u001b[0;32m     40\u001b[0m \u001b[39mself\u001b[39m\u001b[39m.\u001b[39m_registry_uri \u001b[39m=\u001b[39m registry_uri \u001b[39mor\u001b[39;00m final_tracking_uri\n\u001b[1;32m---> 41\u001b[0m \u001b[39mself\u001b[39m\u001b[39m.\u001b[39m_tracking_client \u001b[39m=\u001b[39m TrackingServiceClient(final_tracking_uri)\n",
      "File \u001b[1;32mc:\\Users\\dekai\\AppData\\Local\\Programs\\Python\\Python39\\lib\\site-packages\\mlflow\\tracking\\_tracking_service\\client.py:32\u001b[0m, in \u001b[0;36mTrackingServiceClient.__init__\u001b[1;34m(self, tracking_uri)\u001b[0m\n\u001b[0;32m     28\u001b[0m \u001b[39m\"\"\"\u001b[39;00m\n\u001b[0;32m     29\u001b[0m \u001b[39m:param tracking_uri: Address of local or remote tracking server.\u001b[39;00m\n\u001b[0;32m     30\u001b[0m \u001b[39m\"\"\"\u001b[39;00m\n\u001b[0;32m     31\u001b[0m \u001b[39mself\u001b[39m\u001b[39m.\u001b[39mtracking_uri \u001b[39m=\u001b[39m tracking_uri\n\u001b[1;32m---> 32\u001b[0m \u001b[39mself\u001b[39m\u001b[39m.\u001b[39mstore \u001b[39m=\u001b[39m utils\u001b[39m.\u001b[39;49m_get_store(\u001b[39mself\u001b[39;49m\u001b[39m.\u001b[39;49mtracking_uri)\n",
      "File \u001b[1;32mc:\\Users\\dekai\\AppData\\Local\\Programs\\Python\\Python39\\lib\\site-packages\\mlflow\\tracking\\_tracking_service\\utils.py:114\u001b[0m, in \u001b[0;36m_get_store\u001b[1;34m(store_uri, artifact_uri)\u001b[0m\n\u001b[0;32m    113\u001b[0m \u001b[39mdef\u001b[39;00m \u001b[39m_get_store\u001b[39m(store_uri\u001b[39m=\u001b[39m\u001b[39mNone\u001b[39;00m, artifact_uri\u001b[39m=\u001b[39m\u001b[39mNone\u001b[39;00m):\n\u001b[1;32m--> 114\u001b[0m     \u001b[39mreturn\u001b[39;00m _tracking_store_registry\u001b[39m.\u001b[39;49mget_store(store_uri, artifact_uri)\n",
      "File \u001b[1;32mc:\\Users\\dekai\\AppData\\Local\\Programs\\Python\\Python39\\lib\\site-packages\\mlflow\\tracking\\_tracking_service\\registry.py:36\u001b[0m, in \u001b[0;36mTrackingStoreRegistry.get_store\u001b[1;34m(self, store_uri, artifact_uri)\u001b[0m\n\u001b[0;32m     34\u001b[0m \u001b[39mfrom\u001b[39;00m \u001b[39mmlflow\u001b[39;00m\u001b[39m.\u001b[39;00m\u001b[39mtracking\u001b[39;00m\u001b[39m.\u001b[39;00m\u001b[39m_tracking_service\u001b[39;00m \u001b[39mimport\u001b[39;00m utils\n\u001b[0;32m     35\u001b[0m store_uri \u001b[39m=\u001b[39m store_uri \u001b[39mif\u001b[39;00m store_uri \u001b[39mis\u001b[39;00m \u001b[39mnot\u001b[39;00m \u001b[39mNone\u001b[39;00m \u001b[39melse\u001b[39;00m utils\u001b[39m.\u001b[39mget_tracking_uri()\n\u001b[1;32m---> 36\u001b[0m builder \u001b[39m=\u001b[39m \u001b[39mself\u001b[39;49m\u001b[39m.\u001b[39;49mget_store_builder(store_uri)\n\u001b[0;32m     37\u001b[0m \u001b[39mreturn\u001b[39;00m builder(store_uri\u001b[39m=\u001b[39mstore_uri, artifact_uri\u001b[39m=\u001b[39martifact_uri)\n",
      "File \u001b[1;32mc:\\Users\\dekai\\AppData\\Local\\Programs\\Python\\Python39\\lib\\site-packages\\mlflow\\tracking\\registry.py:75\u001b[0m, in \u001b[0;36mStoreRegistry.get_store_builder\u001b[1;34m(self, store_uri)\u001b[0m\n\u001b[0;32m     73\u001b[0m     store_builder \u001b[39m=\u001b[39m \u001b[39mself\u001b[39m\u001b[39m.\u001b[39m_registry[scheme]\n\u001b[0;32m     74\u001b[0m \u001b[39mexcept\u001b[39;00m \u001b[39mKeyError\u001b[39;00m:\n\u001b[1;32m---> 75\u001b[0m     \u001b[39mraise\u001b[39;00m UnsupportedModelRegistryStoreURIException(\n\u001b[0;32m     76\u001b[0m         unsupported_uri\u001b[39m=\u001b[39mstore_uri,\n\u001b[0;32m     77\u001b[0m         supported_uri_schemes\u001b[39m=\u001b[39m\u001b[39mlist\u001b[39m(\u001b[39mself\u001b[39m\u001b[39m.\u001b[39m_registry\u001b[39m.\u001b[39mkeys()))\n\u001b[0;32m     78\u001b[0m \u001b[39mreturn\u001b[39;00m store_builder\n",
      "\u001b[1;31mUnsupportedModelRegistryStoreURIException\u001b[0m: Unsupported URI 'c:\\Arbeitsplatz\\20 Master\\Masterarbeit\\50 Code\\al-nlp-req\\sequence-tagging\\data/results/mlruns' for model registry store. Supported schemes are: ['', 'file', 'databricks', 'http', 'https', 'postgresql', 'mysql', 'sqlite', 'mssql']. See https://www.mlflow.org/docs/latest/tracking.html#storage for how to setup a compatible server."
     ]
    }
   ],
   "source": [
    "nerbb.run_experiment(\"my_experiment\", model=\"bert-base-cased\", dataset=\"conll2003\")"
   ]
  }
 ],
 "metadata": {
  "kernelspec": {
   "display_name": "Python 3.9.13 64-bit",
   "language": "python",
   "name": "python3"
  },
  "language_info": {
   "codemirror_mode": {
    "name": "ipython",
    "version": 3
   },
   "file_extension": ".py",
   "mimetype": "text/x-python",
   "name": "python",
   "nbconvert_exporter": "python",
   "pygments_lexer": "ipython3",
   "version": "3.9.13"
  },
  "orig_nbformat": 4,
  "vscode": {
   "interpreter": {
    "hash": "0069e35276b4b16933fc948b1a9f9ae6be664e95860c7c07ee003b238b1460ad"
   }
  }
 },
 "nbformat": 4,
 "nbformat_minor": 2
}
