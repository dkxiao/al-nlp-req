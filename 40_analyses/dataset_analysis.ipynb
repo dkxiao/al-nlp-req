{
 "cells": [
  {
   "cell_type": "code",
   "execution_count": 13,
   "metadata": {},
   "outputs": [],
   "source": [
    "# general data science on gold standard dataset"
   ]
  },
  {
   "cell_type": "code",
   "execution_count": 9,
   "metadata": {},
   "outputs": [],
   "source": [
    "import pandas as pd\n",
    "pd.set_option('display.max_rows', None)"
   ]
  },
  {
   "cell_type": "code",
   "execution_count": 10,
   "metadata": {},
   "outputs": [],
   "source": [
    "# id to label matching\n",
    "id2label = {0: 'O',\n",
    " 1: 'B-ACT',\n",
    " 2: 'I-ACT',\n",
    " 3: 'B-ATTR',\n",
    " 4: 'I-ATTR',\n",
    " 5: 'B-RELOP',\n",
    " 6: 'I-RELOP',\n",
    " 7: 'B-QUANT',\n",
    " 8: 'I-QUANT',\n",
    " 9: 'B-ENT',\n",
    " 10: 'I-ENT'}"
   ]
  },
  {
   "cell_type": "code",
   "execution_count": 11,
   "metadata": {},
   "outputs": [],
   "source": [
    "# import hardcoded data\n",
    "df1 = pd.read_json('data/train.json', lines = True)\n",
    "df2 = pd.read_json('data/validation.json', lines = True)\n",
    "df3 = pd.read_json('data/test.json', lines = True)\n",
    "\n",
    "df1.insert(0, 'data', 'train')\n",
    "df2.insert(0, 'data', 'validation')\n",
    "df3.insert(0, 'data', 'test')"
   ]
  },
  {
   "cell_type": "code",
   "execution_count": 12,
   "metadata": {},
   "outputs": [],
   "source": [
    "df = pd.concat([df1, df2, df3], ignore_index=True)"
   ]
  },
  {
   "cell_type": "code",
   "execution_count": 13,
   "metadata": {},
   "outputs": [],
   "source": [
    "# explode nested_list into single_list\n",
    "def explode_nested(nested_list):\n",
    "    s = pd.Series(nested_list)\n",
    "    single_list = s.explode()\n",
    "    single_list = single_list.tolist()\n",
    "    return single_list"
   ]
  },
  {
   "cell_type": "code",
   "execution_count": 14,
   "metadata": {},
   "outputs": [],
   "source": [
    "nested_list_ID = df['ner_tags'].tolist()\n",
    "single_list_ID = explode_nested(nested_list_ID)\n",
    "\n",
    "nested_list_words = df['tokens'].tolist()\n",
    "single_list_words = explode_nested(nested_list_words)"
   ]
  },
  {
   "cell_type": "code",
   "execution_count": 15,
   "metadata": {},
   "outputs": [
    {
     "data": {
      "text/plain": [
       "23122"
      ]
     },
     "execution_count": 15,
     "metadata": {},
     "output_type": "execute_result"
    }
   ],
   "source": [
    "# total number of words in datasets\n",
    "len(single_list_words)"
   ]
  },
  {
   "cell_type": "code",
   "execution_count": 16,
   "metadata": {},
   "outputs": [
    {
     "name": "stdout",
     "output_type": "stream",
     "text": [
      "O: 11119\n",
      "B-ACT: 855\n",
      "I-ACT: 236\n",
      "B-ATTR: 916\n",
      "I-ATTR: 3729\n",
      "B-RELOP: 825\n",
      "I-RELOP: 446\n",
      "B-QUANT: 939\n",
      "I-QUANT: 1306\n",
      "B-ENT: 840\n",
      "I-ENT: 1911\n"
     ]
    }
   ],
   "source": [
    "# total entities\n",
    "for i in range(11):\n",
    "    print(f'{id2label[i]}: {single_list_ID.count(i)}')"
   ]
  },
  {
   "cell_type": "code",
   "execution_count": 17,
   "metadata": {},
   "outputs": [
    {
     "name": "stdout",
     "output_type": "stream",
     "text": [
      "O: 11119\n",
      "B-ACT: 855\n",
      "B-ATTR: 916\n",
      "B-RELOP: 825\n",
      "B-QUANT: 939\n",
      "B-ENT: 840\n"
     ]
    }
   ],
   "source": [
    "# only B-tag entities\n",
    "for i in [0,1,3,5,7,9]:\n",
    "    print(f'{id2label[i]}: {single_list_ID.count(i)}')"
   ]
  },
  {
   "cell_type": "code",
   "execution_count": 27,
   "metadata": {},
   "outputs": [
    {
     "name": "stdout",
     "output_type": "stream",
     "text": [
      "Total words: 23122\n",
      "Total sentences: 913\n",
      "Train sentences: 636 (70%)\n",
      "Validation sentences: 138 (15%)\n",
      "Test sentences: 139 (15%)\n"
     ]
    }
   ],
   "source": [
    "print(f'Total words: {len(single_list_ID)}')\n",
    "print(f'Total sentences: {len(df)}')\n",
    "print(f'Train sentences: {len(df1)} ({len(df1)/len(df)*100:.0f}%)')\n",
    "print(f'Validation sentences: {len(df2)} ({len(df2)/len(df)*100:.0f}%)')\n",
    "print(f'Test sentences: {len(df3)} ({len(df3)/len(df)*100:.0f}%)')"
   ]
  },
  {
   "cell_type": "code",
   "execution_count": 1,
   "metadata": {},
   "outputs": [
    {
     "data": {
      "text/plain": [
       "1.4142135623730951"
      ]
     },
     "execution_count": 1,
     "metadata": {},
     "output_type": "execute_result"
    }
   ],
   "source": [
    "# calculate standard deviation from list of numbers\n",
    "def stdev(numbers):\n",
    "    mean = sum(numbers) / len(numbers)\n",
    "    variance = sum([pow(x - mean, 2) for x in numbers]) / len(numbers)\n",
    "    return variance ** 0.5\n",
    "\n",
    "stdev([1,2,3,4,5])"
   ]
  }
 ],
 "metadata": {
  "kernelspec": {
   "display_name": "Python 3",
   "language": "python",
   "name": "python3"
  },
  "language_info": {
   "codemirror_mode": {
    "name": "ipython",
    "version": 3
   },
   "file_extension": ".py",
   "mimetype": "text/x-python",
   "name": "python",
   "nbconvert_exporter": "python",
   "pygments_lexer": "ipython3",
   "version": "3.9.13"
  },
  "orig_nbformat": 4,
  "vscode": {
   "interpreter": {
    "hash": "0069e35276b4b16933fc948b1a9f9ae6be664e95860c7c07ee003b238b1460ad"
   }
  }
 },
 "nbformat": 4,
 "nbformat_minor": 2
}
